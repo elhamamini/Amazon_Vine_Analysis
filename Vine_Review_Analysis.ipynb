{
  "nbformat": 4,
  "nbformat_minor": 0,
  "metadata": {
    "colab": {
      "name": "Vine_Review_Analysis.ipynb",
      "provenance": [],
      "authorship_tag": "ABX9TyMf8wc0eGyRxDJ586xU4qqI",
      "include_colab_link": true
    },
    "kernelspec": {
      "name": "python3",
      "display_name": "Python 3"
    },
    "language_info": {
      "name": "python"
    }
  },
  "cells": [
    {
      "cell_type": "markdown",
      "metadata": {
        "id": "view-in-github",
        "colab_type": "text"
      },
      "source": [
        "<a href=\"https://colab.research.google.com/github/elhamamini/Amazon_Vine_Analysis/blob/main/Vine_Review_Analysis.ipynb\" target=\"_parent\"><img src=\"https://colab.research.google.com/assets/colab-badge.svg\" alt=\"Open In Colab\"/></a>"
      ]
    },
    {
      "cell_type": "code",
      "metadata": {
        "colab": {
          "base_uri": "https://localhost:8080/"
        },
        "id": "pqcQcYB-TTa5",
        "outputId": "42e4f992-85a0-44a4-b6fe-66113ebf39f1"
      },
      "source": [
        "import os\n",
        "# Find the latest version of spark 3.0 from http://www.apache.org/dist/spark/ and enter as the spark version\n",
        "# For example:\n",
        "# spark_version = 'spark-3.0.3'\n",
        "spark_version = 'spark-3.0.3'\n",
        "os.environ['SPARK_VERSION']=spark_version\n",
        "\n",
        "# Install Spark and Java\n",
        "!apt-get update\n",
        "!apt-get install openjdk-11-jdk-headless -qq > /dev/null\n",
        "!wget -q http://www.apache.org/dist/spark/$SPARK_VERSION/$SPARK_VERSION-bin-hadoop2.7.tgz\n",
        "!tar xf $SPARK_VERSION-bin-hadoop2.7.tgz\n",
        "!pip install -q findspark\n",
        "\n",
        "# Set Environment Variables\n",
        "import os\n",
        "os.environ[\"JAVA_HOME\"] = \"/usr/lib/jvm/java-11-openjdk-amd64\"\n",
        "os.environ[\"SPARK_HOME\"] = f\"/content/{spark_version}-bin-hadoop2.7\"\n",
        "\n",
        "# Start a SparkSession\n",
        "import findspark\n",
        "findspark.init()"
      ],
      "execution_count": 1,
      "outputs": [
        {
          "output_type": "stream",
          "name": "stdout",
          "text": [
            "\r0% [Working]\r            \rGet:1 https://cloud.r-project.org/bin/linux/ubuntu bionic-cran40/ InRelease [3,626 B]\n",
            "\r0% [Connecting to archive.ubuntu.com (91.189.88.152)] [Waiting for headers] [1 \r0% [Connecting to archive.ubuntu.com (91.189.88.152)] [Waiting for headers] [Co\r                                                                               \rIgn:2 https://developer.download.nvidia.com/compute/cuda/repos/ubuntu1804/x86_64  InRelease\n",
            "\r0% [Connecting to archive.ubuntu.com (91.189.88.152)] [Waiting for headers] [Co\r0% [1 InRelease gpgv 3,626 B] [Connecting to archive.ubuntu.com (91.189.88.152)\r                                                                               \rGet:3 http://security.ubuntu.com/ubuntu bionic-security InRelease [88.7 kB]\n",
            "\r0% [1 InRelease gpgv 3,626 B] [Waiting for headers] [3 InRelease 14.2 kB/88.7 k\r                                                                               \rIgn:4 https://developer.download.nvidia.com/compute/machine-learning/repos/ubuntu1804/x86_64  InRelease\n",
            "\r0% [1 InRelease gpgv 3,626 B] [Waiting for headers] [3 InRelease 14.2 kB/88.7 k\r                                                                               \rHit:5 https://developer.download.nvidia.com/compute/cuda/repos/ubuntu1804/x86_64  Release\n",
            "Hit:6 https://developer.download.nvidia.com/compute/machine-learning/repos/ubuntu1804/x86_64  Release\n",
            "Get:7 http://ppa.launchpad.net/c2d4u.team/c2d4u4.0+/ubuntu bionic InRelease [15.9 kB]\n",
            "Hit:8 http://ppa.launchpad.net/cran/libgit2/ubuntu bionic InRelease\n",
            "Hit:10 http://ppa.launchpad.net/deadsnakes/ppa/ubuntu bionic InRelease\n",
            "Hit:12 http://ppa.launchpad.net/graphics-drivers/ppa/ubuntu bionic InRelease\n",
            "Get:13 http://security.ubuntu.com/ubuntu bionic-security/universe amd64 Packages [1,430 kB]\n",
            "Get:14 http://ppa.launchpad.net/c2d4u.team/c2d4u4.0+/ubuntu bionic/main Sources [1,802 kB]\n",
            "Hit:15 http://archive.ubuntu.com/ubuntu bionic InRelease\n",
            "Get:16 http://archive.ubuntu.com/ubuntu bionic-updates InRelease [88.7 kB]\n",
            "Get:17 http://archive.ubuntu.com/ubuntu bionic-backports InRelease [74.6 kB]\n",
            "Get:18 http://ppa.launchpad.net/c2d4u.team/c2d4u4.0+/ubuntu bionic/main amd64 Packages [922 kB]\n",
            "Get:19 http://archive.ubuntu.com/ubuntu bionic-updates/main amd64 Packages [2,800 kB]\n",
            "Get:20 http://archive.ubuntu.com/ubuntu bionic-updates/universe amd64 Packages [2,208 kB]\n",
            "Fetched 9,435 kB in 5s (1,930 kB/s)\n",
            "Reading package lists... Done\n"
          ]
        }
      ]
    },
    {
      "cell_type": "code",
      "metadata": {
        "colab": {
          "base_uri": "https://localhost:8080/"
        },
        "id": "F4slEoVITfVl",
        "outputId": "80559d3d-e051-4229-f759-600b5b519a6c"
      },
      "source": [
        "# Download the Postgres driver that will allow Spark to interact with Postgres.\n",
        "!wget https://jdbc.postgresql.org/download/postgresql-42.2.16.jar"
      ],
      "execution_count": 2,
      "outputs": [
        {
          "output_type": "stream",
          "name": "stdout",
          "text": [
            "--2021-10-04 03:17:31--  https://jdbc.postgresql.org/download/postgresql-42.2.16.jar\n",
            "Resolving jdbc.postgresql.org (jdbc.postgresql.org)... 72.32.157.228, 2001:4800:3e1:1::228\n",
            "Connecting to jdbc.postgresql.org (jdbc.postgresql.org)|72.32.157.228|:443... connected.\n",
            "HTTP request sent, awaiting response... 200 OK\n",
            "Length: 1002883 (979K) [application/java-archive]\n",
            "Saving to: ‘postgresql-42.2.16.jar’\n",
            "\n",
            "postgresql-42.2.16. 100%[===================>] 979.38K  4.81MB/s    in 0.2s    \n",
            "\n",
            "2021-10-04 03:17:31 (4.81 MB/s) - ‘postgresql-42.2.16.jar’ saved [1002883/1002883]\n",
            "\n"
          ]
        }
      ]
    },
    {
      "cell_type": "code",
      "metadata": {
        "id": "GDigqkncTtHi"
      },
      "source": [
        "from pyspark.sql import SparkSession\n",
        "spark = SparkSession.builder.appName(\"M16-Amazon-Challenge\").config(\"spark.driver.extraClassPath\",\"/content/postgresql-42.2.16.jar\").getOrCreate()"
      ],
      "execution_count": 3,
      "outputs": []
    },
    {
      "cell_type": "code",
      "metadata": {
        "colab": {
          "base_uri": "https://localhost:8080/"
        },
        "id": "f4M9MjBnTuKq",
        "outputId": "7b652ced-d83f-4979-f9b3-a95a28b96d39"
      },
      "source": [
        "from pyspark import SparkFiles\n",
        "url = \"https://s3.amazonaws.com/amazon-reviews-pds/tsv/amazon_reviews_us_Wireless_v1_00.tsv.gz\"\n",
        "spark.sparkContext.addFile(url)\n",
        "df = spark.read.option(\"encoding\", \"UTF-8\").csv(SparkFiles.get(\"\"), sep=\"\\t\", header=True, inferSchema=True)\n",
        "df.show()"
      ],
      "execution_count": 4,
      "outputs": [
        {
          "output_type": "stream",
          "name": "stdout",
          "text": [
            "+-----------+-----------+--------------+----------+--------------+--------------------+----------------+-----------+-------------+-----------+----+-----------------+--------------------+--------------------+-----------+\n",
            "|marketplace|customer_id|     review_id|product_id|product_parent|       product_title|product_category|star_rating|helpful_votes|total_votes|vine|verified_purchase|     review_headline|         review_body|review_date|\n",
            "+-----------+-----------+--------------+----------+--------------+--------------------+----------------+-----------+-------------+-----------+----+-----------------+--------------------+--------------------+-----------+\n",
            "|         US|   16414143|R3W4P9UBGNGH1U|B00YL0EKWE|     852431543|LG G4 Case Hard T...|        Wireless|          2|            1|          3|   N|                Y|Looks good, funct...|2 issues  -  Once...| 2015-08-31|\n",
            "|         US|   50800750|R15V54KBMTQWAY|B00XK95RPQ|     516894650|Selfie Stick Fibl...|        Wireless|          4|            0|          0|   N|                N| A fun little gadget|I’m embarrassed t...| 2015-08-31|\n",
            "|         US|   15184378| RY8I449HNXSVF|B00SXRXUKO|     984297154|Tribe AB40 Water ...|        Wireless|          5|            0|          0|   N|                Y|          Five Stars|  Fits iPhone 6 well| 2015-08-31|\n",
            "|         US|   10203548|R18TLJYCKJFLSR|B009V5X1CE|     279912704|RAVPower® Element...|        Wireless|          5|            0|          0|   N|                Y|       Great charger|Great charger.  I...| 2015-08-31|\n",
            "|         US|     488280|R1NK26SWS53B8Q|B00D93OVF0|     662791300|Fosmon Micro USB ...|        Wireless|          5|            0|          0|   N|                Y|          Five Stars|Great for the pri...| 2015-08-31|\n",
            "|         US|   13334021|R11LOHEDYJALTN|B00XVGJMDQ|     421688488|iPhone 6 Case, Vo...|        Wireless|          5|            0|          0|   N|                Y|          Five Stars|Great Case, bette...| 2015-08-31|\n",
            "|         US|   27520697|R3ALQVQB2P9LA7|B00KQW1X1C|     554285554|Nokia Lumia 630 R...|        Wireless|          4|            0|          0|   N|                Y|          Four Stars|Easy to set up an...| 2015-08-31|\n",
            "|         US|   48086021|R3MWLXLNO21PDQ|B00IP1MQNK|     488006702|Lumsing 10400mah ...|        Wireless|          5|            0|          0|   N|                Y|          Five Stars|         Works great| 2015-08-31|\n",
            "|         US|   12738196|R2L15IS24CX0LI|B00HVORET8|     389677711|iPhone 5S Battery...|        Wireless|          5|            0|          0|   N|                Y|      So far so good|So far so good. I...| 2015-08-31|\n",
            "|         US|   15867807|R1DJ8976WPWVZU|B00HX3G6J6|     299654876|HTC One M8 Screen...|        Wireless|          3|            0|          0|   N|                Y|seems durable but...|seems durable but...| 2015-08-31|\n",
            "|         US|    1972249|R3MRWNNR8CBTB7|B00U4NATNQ|     577878727|S6 Case - Bear Mo...|        Wireless|          5|            0|          0|   N|                Y|Super thin, light...|Super thin, light...| 2015-08-31|\n",
            "|         US|   10956619|R1DS6DKTUXAQK3|B00SZEFDH8|     654620704|BLU Studio X, Unl...|        Wireless|          5|            0|          0|   N|                Y|          Five Stars|As good as the Sa...| 2015-08-31|\n",
            "|         US|   14805911| RWJM5E0TWUJD2|B00JRJUL9U|     391166958|EZOPower 5-Port U...|        Wireless|          5|            0|          0|   N|                Y|            EZOPower|I received this o...| 2015-08-31|\n",
            "|         US|   15611116|R1XTJKDYNCRGAC|B00KQ4T0HE|     481551630|iPhone 6S Case &i...|        Wireless|          1|            0|          0|   N|                Y|Very cheap case. ...|Very cheap case. ...| 2015-08-31|\n",
            "|         US|   39298603|R2UZL3DPWEU1XW|B00M0YWKPM|     685107474| iPhone 6s Plus Case|        Wireless|          5|            0|          0|   N|                Y|          Five Stars|       son loves it.| 2015-08-31|\n",
            "|         US|   17552454|R2EZXET9KBFFU3|B00KDZEE68|     148320945|zBoost ZB575-A TR...|        Wireless|          1|            0|          0|   N|                Y|            One Star|you have to turn ...| 2015-08-31|\n",
            "|         US|   12218556|R26VY1L1FD3LPU|B00BJN45GM|      47788188|OtterBox Defender...|        Wireless|          5|            0|          0|   N|                Y|          Five Stars|  Awesome, thank you| 2015-08-31|\n",
            "|         US|   21872923|R2SSA4NSFCV18T|B00SA86SXW|     748759272|Aduro PowerUP 30W...|        Wireless|          5|            0|          0|   N|                N|          Five Stars|         nice, smart| 2015-08-31|\n",
            "|         US|   16264332|R1G6333JHJNEUQ|B00Q3I68TU|     974085141|LilGadgets Connec...|        Wireless|          5|            0|          0|   N|                Y|Great headphones ...|We love these hea...| 2015-08-31|\n",
            "|         US|    6042304|R2DRG0UZXJQ0PE|B00TN4J1TA|     716174627|Anker Aluminum Mu...|        Wireless|          5|            0|          0|   N|                Y|          Five Stars|This is well wort...| 2015-08-31|\n",
            "+-----------+-----------+--------------+----------+--------------+--------------------+----------------+-----------+-------------+-----------+----+-----------------+--------------------+--------------------+-----------+\n",
            "only showing top 20 rows\n",
            "\n"
          ]
        }
      ]
    },
    {
      "cell_type": "code",
      "metadata": {
        "colab": {
          "base_uri": "https://localhost:8080/"
        },
        "id": "FwosSu-0UXsH",
        "outputId": "7d3b1b0c-0bbc-4f40-ecd1-6a1f6473199b"
      },
      "source": [
        "vine_table = df.select([\"review_id\",\"star_rating\",\"helpful_votes\",\"total_votes\",\"vine\",\"verified_purchase\"])\n",
        "vine_table.show()"
      ],
      "execution_count": 5,
      "outputs": [
        {
          "output_type": "stream",
          "name": "stdout",
          "text": [
            "+--------------+-----------+-------------+-----------+----+-----------------+\n",
            "|     review_id|star_rating|helpful_votes|total_votes|vine|verified_purchase|\n",
            "+--------------+-----------+-------------+-----------+----+-----------------+\n",
            "|R3W4P9UBGNGH1U|          2|            1|          3|   N|                Y|\n",
            "|R15V54KBMTQWAY|          4|            0|          0|   N|                N|\n",
            "| RY8I449HNXSVF|          5|            0|          0|   N|                Y|\n",
            "|R18TLJYCKJFLSR|          5|            0|          0|   N|                Y|\n",
            "|R1NK26SWS53B8Q|          5|            0|          0|   N|                Y|\n",
            "|R11LOHEDYJALTN|          5|            0|          0|   N|                Y|\n",
            "|R3ALQVQB2P9LA7|          4|            0|          0|   N|                Y|\n",
            "|R3MWLXLNO21PDQ|          5|            0|          0|   N|                Y|\n",
            "|R2L15IS24CX0LI|          5|            0|          0|   N|                Y|\n",
            "|R1DJ8976WPWVZU|          3|            0|          0|   N|                Y|\n",
            "|R3MRWNNR8CBTB7|          5|            0|          0|   N|                Y|\n",
            "|R1DS6DKTUXAQK3|          5|            0|          0|   N|                Y|\n",
            "| RWJM5E0TWUJD2|          5|            0|          0|   N|                Y|\n",
            "|R1XTJKDYNCRGAC|          1|            0|          0|   N|                Y|\n",
            "|R2UZL3DPWEU1XW|          5|            0|          0|   N|                Y|\n",
            "|R2EZXET9KBFFU3|          1|            0|          0|   N|                Y|\n",
            "|R26VY1L1FD3LPU|          5|            0|          0|   N|                Y|\n",
            "|R2SSA4NSFCV18T|          5|            0|          0|   N|                N|\n",
            "|R1G6333JHJNEUQ|          5|            0|          0|   N|                Y|\n",
            "|R2DRG0UZXJQ0PE|          5|            0|          0|   N|                Y|\n",
            "+--------------+-----------+-------------+-----------+----+-----------------+\n",
            "only showing top 20 rows\n",
            "\n"
          ]
        }
      ]
    },
    {
      "cell_type": "code",
      "metadata": {
        "colab": {
          "base_uri": "https://localhost:8080/"
        },
        "id": "7cztoaACVBgA",
        "outputId": "6cdd1043-b3c3-4ff2-91d9-772aada0cfdf"
      },
      "source": [
        "vine1_df=vine_table.filter(\"total_votes >= 20\")\n",
        "vine1_df.show()"
      ],
      "execution_count": 12,
      "outputs": [
        {
          "output_type": "stream",
          "name": "stdout",
          "text": [
            "+--------------+-----------+-------------+-----------+----+-----------------+\n",
            "|     review_id|star_rating|helpful_votes|total_votes|vine|verified_purchase|\n",
            "+--------------+-----------+-------------+-----------+----+-----------------+\n",
            "|R2WOW0TURNXB26|          3|           54|         59|   N|                Y|\n",
            "|R13VL62Y2HBQ0B|          5|           15|         21|   N|                Y|\n",
            "|R22G55KAPZKJQV|          4|           20|         21|   N|                Y|\n",
            "|R1610PGTJS7G3N|          2|           28|         44|   N|                Y|\n",
            "| RLQL04BL0QXOJ|          4|           45|         47|   N|                Y|\n",
            "|R2AYJHH8WJNGAU|          4|           98|        104|   N|                Y|\n",
            "|R111DJA10Y6CMU|          5|           26|         39|   N|                Y|\n",
            "|R2EE2TR4MRDV0U|          5|           53|         59|   N|                Y|\n",
            "| RD4A80I5JDHED|          5|           69|         77|   N|                N|\n",
            "|R1GU6IYZQWQE8X|          2|           24|         25|   N|                Y|\n",
            "| RZOPM62JMW97V|          2|          103|        108|   N|                Y|\n",
            "|R21GLR3TD27ISV|          3|            4|         22|   N|                Y|\n",
            "|R1D3NR5GREEXXJ|          5|           57|         58|   N|                Y|\n",
            "|R24BMEHX5EWGEY|          2|           26|         30|   N|                Y|\n",
            "|R2WYKBQS8OR08O|          5|          168|        176|   N|                Y|\n",
            "|R3DL0Y1KWYLD5X|          5|           36|         37|   N|                Y|\n",
            "|R3EGDTFDMCOOG4|          5|           74|         90|   N|                N|\n",
            "|R1MC93W6WG9R3O|          1|           22|         22|   N|                Y|\n",
            "|R35B0B69DYR54L|          1|           18|         22|   N|                Y|\n",
            "|R1593EM56412NH|          4|           33|         37|   N|                Y|\n",
            "+--------------+-----------+-------------+-----------+----+-----------------+\n",
            "only showing top 20 rows\n",
            "\n"
          ]
        }
      ]
    },
    {
      "cell_type": "code",
      "metadata": {
        "colab": {
          "base_uri": "https://localhost:8080/"
        },
        "id": "huzJ1LYZVwBe",
        "outputId": "62ae83bd-6596-4772-edd8-267d6c3afd58"
      },
      "source": [
        "vine1_df.count()"
      ],
      "execution_count": 16,
      "outputs": [
        {
          "output_type": "execute_result",
          "data": {
            "text/plain": [
              "72587"
            ]
          },
          "metadata": {},
          "execution_count": 16
        }
      ]
    },
    {
      "cell_type": "code",
      "metadata": {
        "colab": {
          "base_uri": "https://localhost:8080/"
        },
        "id": "VVTq3AqsVQkp",
        "outputId": "0d406e3c-a183-407b-f7d1-593c6c48f458"
      },
      "source": [
        "vine2_df=vine1_df.filter(\"(helpful_votes/total_votes) >= 0.5\")\n",
        "vine2_df.show()"
      ],
      "execution_count": 22,
      "outputs": [
        {
          "output_type": "stream",
          "name": "stdout",
          "text": [
            "+--------------+-----------+-------------+-----------+----+-----------------+\n",
            "|     review_id|star_rating|helpful_votes|total_votes|vine|verified_purchase|\n",
            "+--------------+-----------+-------------+-----------+----+-----------------+\n",
            "|R2WOW0TURNXB26|          3|           54|         59|   N|                Y|\n",
            "|R13VL62Y2HBQ0B|          5|           15|         21|   N|                Y|\n",
            "|R22G55KAPZKJQV|          4|           20|         21|   N|                Y|\n",
            "|R1610PGTJS7G3N|          2|           28|         44|   N|                Y|\n",
            "| RLQL04BL0QXOJ|          4|           45|         47|   N|                Y|\n",
            "|R2AYJHH8WJNGAU|          4|           98|        104|   N|                Y|\n",
            "|R111DJA10Y6CMU|          5|           26|         39|   N|                Y|\n",
            "|R2EE2TR4MRDV0U|          5|           53|         59|   N|                Y|\n",
            "| RD4A80I5JDHED|          5|           69|         77|   N|                N|\n",
            "|R1GU6IYZQWQE8X|          2|           24|         25|   N|                Y|\n",
            "| RZOPM62JMW97V|          2|          103|        108|   N|                Y|\n",
            "|R1D3NR5GREEXXJ|          5|           57|         58|   N|                Y|\n",
            "|R24BMEHX5EWGEY|          2|           26|         30|   N|                Y|\n",
            "|R2WYKBQS8OR08O|          5|          168|        176|   N|                Y|\n",
            "|R3DL0Y1KWYLD5X|          5|           36|         37|   N|                Y|\n",
            "|R3EGDTFDMCOOG4|          5|           74|         90|   N|                N|\n",
            "|R1MC93W6WG9R3O|          1|           22|         22|   N|                Y|\n",
            "|R35B0B69DYR54L|          1|           18|         22|   N|                Y|\n",
            "|R1593EM56412NH|          4|           33|         37|   N|                Y|\n",
            "|R1KEP1DUJK2LD5|          5|           34|         42|   N|                Y|\n",
            "+--------------+-----------+-------------+-----------+----+-----------------+\n",
            "only showing top 20 rows\n",
            "\n"
          ]
        }
      ]
    },
    {
      "cell_type": "code",
      "metadata": {
        "colab": {
          "base_uri": "https://localhost:8080/"
        },
        "id": "P9gqaUXDWf4N",
        "outputId": "2f913dea-6074-4554-9909-336730f9301a"
      },
      "source": [
        "vine2_df.count()"
      ],
      "execution_count": 18,
      "outputs": [
        {
          "output_type": "execute_result",
          "data": {
            "text/plain": [
              "65581"
            ]
          },
          "metadata": {},
          "execution_count": 18
        }
      ]
    },
    {
      "cell_type": "code",
      "metadata": {
        "colab": {
          "base_uri": "https://localhost:8080/"
        },
        "id": "9eU6VcbTWmDC",
        "outputId": "d09ee5fc-592a-4ada-98a0-5ad26c6ecabb"
      },
      "source": [
        "paid_df = vine2_df.filter(vine2_df.vine == 'Y')\n",
        "paid_df.show(5)"
      ],
      "execution_count": 29,
      "outputs": [
        {
          "output_type": "stream",
          "name": "stdout",
          "text": [
            "+--------------+-----------+-------------+-----------+----+-----------------+\n",
            "|     review_id|star_rating|helpful_votes|total_votes|vine|verified_purchase|\n",
            "+--------------+-----------+-------------+-----------+----+-----------------+\n",
            "|R1MAOLI5FJHAFM|          4|          249|        261|   Y|                N|\n",
            "| R9PYAUDIBJVEC|          4|           12|         22|   Y|                N|\n",
            "| R6V9SHMMG5M8F|          5|          101|        110|   Y|                N|\n",
            "|R37PVLT6ELL5J4|          4|          181|        209|   Y|                N|\n",
            "| R2FSFGWZF24V9|          4|           50|         51|   Y|                N|\n",
            "+--------------+-----------+-------------+-----------+----+-----------------+\n",
            "only showing top 5 rows\n",
            "\n"
          ]
        }
      ]
    },
    {
      "cell_type": "code",
      "metadata": {
        "colab": {
          "base_uri": "https://localhost:8080/"
        },
        "id": "s-qnc33wWtkf",
        "outputId": "85cbccc6-fef5-4f9b-9f24-9e5f9590bc0f"
      },
      "source": [
        "unpaid_df = vine2_df.filter(vine2_df.vine == 'N')\n",
        "unpaid_df.show(5)"
      ],
      "execution_count": 28,
      "outputs": [
        {
          "output_type": "stream",
          "name": "stdout",
          "text": [
            "+--------------+-----------+-------------+-----------+----+-----------------+\n",
            "|     review_id|star_rating|helpful_votes|total_votes|vine|verified_purchase|\n",
            "+--------------+-----------+-------------+-----------+----+-----------------+\n",
            "|R2WOW0TURNXB26|          3|           54|         59|   N|                Y|\n",
            "|R13VL62Y2HBQ0B|          5|           15|         21|   N|                Y|\n",
            "|R22G55KAPZKJQV|          4|           20|         21|   N|                Y|\n",
            "|R1610PGTJS7G3N|          2|           28|         44|   N|                Y|\n",
            "| RLQL04BL0QXOJ|          4|           45|         47|   N|                Y|\n",
            "+--------------+-----------+-------------+-----------+----+-----------------+\n",
            "only showing top 5 rows\n",
            "\n"
          ]
        }
      ]
    },
    {
      "cell_type": "code",
      "metadata": {
        "colab": {
          "base_uri": "https://localhost:8080/"
        },
        "id": "5tF-_0DyXtsb",
        "outputId": "6f2d82c2-aeb9-4c9f-df6c-162dd632378b"
      },
      "source": [
        "# paid total number of reviews\n",
        "total_paid_reviews = paid_df.count()\n",
        "total_paid_reviews"
      ],
      "execution_count": 30,
      "outputs": [
        {
          "output_type": "execute_result",
          "data": {
            "text/plain": [
              "613"
            ]
          },
          "metadata": {},
          "execution_count": 30
        }
      ]
    },
    {
      "cell_type": "code",
      "metadata": {
        "colab": {
          "base_uri": "https://localhost:8080/"
        },
        "id": "_9eOXiyMYHVw",
        "outputId": "6c254cca-dc5f-445e-8ad5-a01ffffb3436"
      },
      "source": [
        "# paid 5-star reviews\n",
        "paid_five_star_reviews = paid_df.filter(paid_df.star_rating == 5).count()\n",
        "paid_five_star_reviews"
      ],
      "execution_count": 31,
      "outputs": [
        {
          "output_type": "execute_result",
          "data": {
            "text/plain": [
              "222"
            ]
          },
          "metadata": {},
          "execution_count": 31
        }
      ]
    },
    {
      "cell_type": "code",
      "metadata": {
        "colab": {
          "base_uri": "https://localhost:8080/"
        },
        "id": "faK3bm2lYNua",
        "outputId": "c375edef-1b6d-48f6-bbd0-1031b505efb1"
      },
      "source": [
        "# paid 5-star reviews percentage\n",
        "paid_five_star_percent = (paid_five_star_reviews / total_paid_reviews) * 100\n",
        "paid_five_star_percent"
      ],
      "execution_count": 39,
      "outputs": [
        {
          "output_type": "execute_result",
          "data": {
            "text/plain": [
              "36.215334420880914"
            ]
          },
          "metadata": {},
          "execution_count": 39
        }
      ]
    },
    {
      "cell_type": "code",
      "metadata": {
        "colab": {
          "base_uri": "https://localhost:8080/"
        },
        "id": "TJlrCnw0YQLY",
        "outputId": "4569dc27-7349-4f50-a5bf-e3baf907e90b"
      },
      "source": [
        "# unpaid total number of reviews\n",
        "total_unpaid_reviews = unpaid_df.count()\n",
        "total_unpaid_reviews\n"
      ],
      "execution_count": 36,
      "outputs": [
        {
          "output_type": "execute_result",
          "data": {
            "text/plain": [
              "64968"
            ]
          },
          "metadata": {},
          "execution_count": 36
        }
      ]
    },
    {
      "cell_type": "code",
      "metadata": {
        "colab": {
          "base_uri": "https://localhost:8080/"
        },
        "id": "lLP19pM-YWYv",
        "outputId": "369fe79e-915e-4c4c-9675-6a8d60d35acd"
      },
      "source": [
        "# unpaid 5-star reviews\n",
        "unpaid_five_star_reviews = unpaid_df.filter(unpaid_df.star_rating == 5).count()\n",
        "unpaid_five_star_reviews"
      ],
      "execution_count": 37,
      "outputs": [
        {
          "output_type": "execute_result",
          "data": {
            "text/plain": [
              "30543"
            ]
          },
          "metadata": {},
          "execution_count": 37
        }
      ]
    },
    {
      "cell_type": "code",
      "metadata": {
        "colab": {
          "base_uri": "https://localhost:8080/"
        },
        "id": "Ct_Mrh9DYZBY",
        "outputId": "64f675ac-5248-488e-9779-0f4866c3528b"
      },
      "source": [
        "# unpaid 5-star reviews percentage\n",
        "unpaid_five_star_percent = (unpaid_five_star_reviews / total_unpaid_reviews) * 100\n",
        "unpaid_five_star_percent\n"
      ],
      "execution_count": 38,
      "outputs": [
        {
          "output_type": "execute_result",
          "data": {
            "text/plain": [
              "47.01237532323606"
            ]
          },
          "metadata": {},
          "execution_count": 38
        }
      ]
    }
  ]
}